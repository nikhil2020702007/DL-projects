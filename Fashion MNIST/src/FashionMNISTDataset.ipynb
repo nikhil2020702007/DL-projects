{
  "nbformat": 4,
  "nbformat_minor": 0,
  "metadata": {
    "colab": {
      "provenance": []
    },
    "kernelspec": {
      "name": "python3",
      "display_name": "Python 3"
    },
    "language_info": {
      "name": "python"
    }
  },
  "cells": [
    {
      "cell_type": "code",
      "execution_count": 32,
      "metadata": {
        "id": "h7yquh5AaNy4"
      },
      "outputs": [],
      "source": [
        "import tensorflow as tf\n",
        "import torch\n",
        "#from torch.utils import datasets\n",
        "from google.colab import drive\n",
        "import pandas as pd"
      ]
    },
    {
      "cell_type": "code",
      "source": [
        "#drive.mount('/content/gdrive')\n"
      ],
      "metadata": {
        "id": "VUeykLeemzp-"
      },
      "execution_count": 33,
      "outputs": []
    },
    {
      "cell_type": "code",
      "source": [
        "data=[[1,2],[3,4]]\n",
        "x_data=torch.tensor(data)\n",
        "print(x_data.type)\n",
        "print(x_data)"
      ],
      "metadata": {
        "colab": {
          "base_uri": "https://localhost:8080/"
        },
        "id": "IkB31ShZdMP8",
        "outputId": "a72cc6be-8f1c-4347-fc94-e11b0107debb"
      },
      "execution_count": 34,
      "outputs": [
        {
          "output_type": "stream",
          "name": "stdout",
          "text": [
            "<built-in method type of Tensor object at 0x7a584461b6f0>\n",
            "tensor([[1, 2],\n",
            "        [3, 4]])\n"
          ]
        }
      ]
    },
    {
      "cell_type": "code",
      "source": [
        "import numpy as np\n",
        "np_array=np.array(data)\n",
        "x_np=torch.from_numpy(np_array)\n",
        "x_ones=torch.ones_like(x_data)\n",
        "print(f\"Ones Tensor: \\n {x_ones} \\n\")\n",
        "x_rand=torch.rand_like(x_ones,dtype=torch.float)\n",
        "print(f\"Rand Tensor: \\n {x_rand} \\n\")"
      ],
      "metadata": {
        "colab": {
          "base_uri": "https://localhost:8080/"
        },
        "id": "kxk_0EIteB0D",
        "outputId": "204c6713-7b3b-433f-df0e-3116061061fd"
      },
      "execution_count": 35,
      "outputs": [
        {
          "output_type": "stream",
          "name": "stdout",
          "text": [
            "Ones Tensor: \n",
            " tensor([[1, 1],\n",
            "        [1, 1]]) \n",
            "\n",
            "Rand Tensor: \n",
            " tensor([[0.2353, 0.9260],\n",
            "        [0.3007, 0.7797]]) \n",
            "\n"
          ]
        }
      ]
    },
    {
      "cell_type": "code",
      "source": [
        "tensor = torch.rand(3,4)\n",
        "\n",
        "print(f\"Shape of tensor: {tensor.shape}\")\n",
        "print(f\"Datatype of tensor: {tensor.dtype}\")\n",
        "print(f\"Device tensor is stored on: {tensor.device}\")\n"
      ],
      "metadata": {
        "colab": {
          "base_uri": "https://localhost:8080/"
        },
        "id": "I0_5vneGhB8D",
        "outputId": "41e2b89c-c384-4ec7-9f22-051ccb7a7c18"
      },
      "execution_count": 36,
      "outputs": [
        {
          "output_type": "stream",
          "name": "stdout",
          "text": [
            "Shape of tensor: torch.Size([3, 4])\n",
            "Datatype of tensor: torch.float32\n",
            "Device tensor is stored on: cpu\n"
          ]
        }
      ]
    },
    {
      "cell_type": "code",
      "source": [
        "tensor=torch.ones(4,4)\n",
        "print(f\"First row:{tensor[0]}\")\n",
        "print(f\"First column:{tensor[:,0]}\")\n",
        "print(f\"First column:{tensor[...,-1]}\")\n",
        "tensor[:,1]=0\n",
        "print(tensor)"
      ],
      "metadata": {
        "colab": {
          "base_uri": "https://localhost:8080/"
        },
        "id": "nHiWvZ1cX99k",
        "outputId": "4d185fae-a45f-4615-a3f9-23dbb049193b"
      },
      "execution_count": 37,
      "outputs": [
        {
          "output_type": "stream",
          "name": "stdout",
          "text": [
            "First row:tensor([1., 1., 1., 1.])\n",
            "First column:tensor([1., 1., 1., 1.])\n",
            "First column:tensor([1., 1., 1., 1.])\n",
            "tensor([[1., 0., 1., 1.],\n",
            "        [1., 0., 1., 1.],\n",
            "        [1., 0., 1., 1.],\n",
            "        [1., 0., 1., 1.]])\n"
          ]
        }
      ]
    },
    {
      "cell_type": "code",
      "source": [
        "torch.cat([tensor,tensor,tensor,tensor],dim=1)"
      ],
      "metadata": {
        "colab": {
          "base_uri": "https://localhost:8080/"
        },
        "id": "2lkZfzEeYwIL",
        "outputId": "f7247fa3-1cf5-4ce0-f80f-79da64656031"
      },
      "execution_count": 38,
      "outputs": [
        {
          "output_type": "execute_result",
          "data": {
            "text/plain": [
              "tensor([[1., 0., 1., 1., 1., 0., 1., 1., 1., 0., 1., 1., 1., 0., 1., 1.],\n",
              "        [1., 0., 1., 1., 1., 0., 1., 1., 1., 0., 1., 1., 1., 0., 1., 1.],\n",
              "        [1., 0., 1., 1., 1., 0., 1., 1., 1., 0., 1., 1., 1., 0., 1., 1.],\n",
              "        [1., 0., 1., 1., 1., 0., 1., 1., 1., 0., 1., 1., 1., 0., 1., 1.]])"
            ]
          },
          "metadata": {},
          "execution_count": 38
        }
      ]
    },
    {
      "cell_type": "code",
      "source": [
        "y1=tensor@tensor.T\n",
        "print(y1)\n",
        "y2=tensor.matmul(tensor.T)\n",
        "print(y2)\n",
        "y3=torch.rand_like(y2)\n",
        "print(y3)\n",
        "torch.matmul(tensor,tensor.T,out=y3)"
      ],
      "metadata": {
        "colab": {
          "base_uri": "https://localhost:8080/"
        },
        "id": "IzfKjsscZf9l",
        "outputId": "bf578bcb-c0ad-436a-fbcf-ceb006123634"
      },
      "execution_count": 39,
      "outputs": [
        {
          "output_type": "stream",
          "name": "stdout",
          "text": [
            "tensor([[3., 3., 3., 3.],\n",
            "        [3., 3., 3., 3.],\n",
            "        [3., 3., 3., 3.],\n",
            "        [3., 3., 3., 3.]])\n",
            "tensor([[3., 3., 3., 3.],\n",
            "        [3., 3., 3., 3.],\n",
            "        [3., 3., 3., 3.],\n",
            "        [3., 3., 3., 3.]])\n",
            "tensor([[0.0750, 0.5656, 0.5935, 0.2868],\n",
            "        [0.3871, 0.2140, 0.1145, 0.4562],\n",
            "        [0.2828, 0.8444, 0.3303, 0.9917],\n",
            "        [0.2404, 0.3661, 0.5677, 0.0733]])\n"
          ]
        },
        {
          "output_type": "execute_result",
          "data": {
            "text/plain": [
              "tensor([[3., 3., 3., 3.],\n",
              "        [3., 3., 3., 3.],\n",
              "        [3., 3., 3., 3.],\n",
              "        [3., 3., 3., 3.]])"
            ]
          },
          "metadata": {},
          "execution_count": 39
        }
      ]
    },
    {
      "cell_type": "code",
      "source": [
        "z1=tensor*tensor\n",
        "print(z1)\n",
        "z2=tensor.mul(tensor)\n",
        "print(z2)\n",
        "z3=torch.rand_like(tensor)\n",
        "torch.mul(tensor,tensor,out=z3)"
      ],
      "metadata": {
        "colab": {
          "base_uri": "https://localhost:8080/"
        },
        "id": "1s3b31l1bJa0",
        "outputId": "4effb0b9-2c25-4bfa-cec5-9c53bd8e50e7"
      },
      "execution_count": 40,
      "outputs": [
        {
          "output_type": "stream",
          "name": "stdout",
          "text": [
            "tensor([[1., 0., 1., 1.],\n",
            "        [1., 0., 1., 1.],\n",
            "        [1., 0., 1., 1.],\n",
            "        [1., 0., 1., 1.]])\n",
            "tensor([[1., 0., 1., 1.],\n",
            "        [1., 0., 1., 1.],\n",
            "        [1., 0., 1., 1.],\n",
            "        [1., 0., 1., 1.]])\n"
          ]
        },
        {
          "output_type": "execute_result",
          "data": {
            "text/plain": [
              "tensor([[1., 0., 1., 1.],\n",
              "        [1., 0., 1., 1.],\n",
              "        [1., 0., 1., 1.],\n",
              "        [1., 0., 1., 1.]])"
            ]
          },
          "metadata": {},
          "execution_count": 40
        }
      ]
    },
    {
      "cell_type": "code",
      "source": [
        "agg=tensor.sum()\n",
        "print(agg)\n",
        "agg_item=agg.item()\n",
        "print(agg_item,type(agg_item))"
      ],
      "metadata": {
        "colab": {
          "base_uri": "https://localhost:8080/"
        },
        "id": "RDq1rSLfceRA",
        "outputId": "ac04c58e-a5a4-48ec-f3a0-a0f95b4386be"
      },
      "execution_count": 41,
      "outputs": [
        {
          "output_type": "stream",
          "name": "stdout",
          "text": [
            "tensor(12.)\n",
            "12.0 <class 'float'>\n"
          ]
        }
      ]
    },
    {
      "cell_type": "code",
      "source": [
        "from torch.utils.data import dataset\n",
        "from torchvision import datasets\n",
        "from torchvision.transforms import ToTensor,Lambda\n",
        "import matplotlib.pyplot as plt"
      ],
      "metadata": {
        "id": "bbjcnn6Bd6bb"
      },
      "execution_count": 42,
      "outputs": []
    },
    {
      "cell_type": "code",
      "source": [
        "device=(\n",
        "    \"cuda\"\n",
        "    if torch.cuda.is_available()\n",
        "    else \"mps\"\n",
        "    if torch.backends.mps.is_available()\n",
        "    else \"cpu\"\n",
        ")\n",
        "print(f\"Using {device} device\")"
      ],
      "metadata": {
        "colab": {
          "base_uri": "https://localhost:8080/"
        },
        "id": "urMJzSLrU99J",
        "outputId": "3ebc59b6-64a7-49ab-a984-74edad7a6576"
      },
      "execution_count": 43,
      "outputs": [
        {
          "output_type": "stream",
          "name": "stdout",
          "text": [
            "Using cpu device\n"
          ]
        }
      ]
    },
    {
      "cell_type": "code",
      "source": [
        "training_data=datasets.FashionMNIST(\n",
        "    root=\"Data\",\n",
        "    train=True,\n",
        "    download=True,\n",
        "    transform=ToTensor(),\n",
        "    target_transform=Lambda(lambda y: torch.zeros(10, dtype=torch.float).scatter_(0,torch.tensor(y), value=1))\n",
        ")"
      ],
      "metadata": {
        "id": "DlXD0GL6ebFK"
      },
      "execution_count": 44,
      "outputs": []
    },
    {
      "cell_type": "code",
      "source": [
        "test_data=datasets.FashionMNIST(\n",
        "    root=\"Data\",\n",
        "    train=False,\n",
        "    download=True,\n",
        "    transform=ToTensor(),\n",
        "    target_transform=Lambda(lambda y: torch.zeros(10, dtype=torch.float).scatter_(0, torch.tensor(y), value=1))\n",
        ")"
      ],
      "metadata": {
        "id": "GU_CwdWPfHUd"
      },
      "execution_count": 45,
      "outputs": []
    },
    {
      "cell_type": "code",
      "source": [
        "labels_map={\n",
        "    0:\"T-Shirt\",\n",
        "    1:\"Trouser\",\n",
        "    2: \"Pullover\",\n",
        "    3: \"Dress\",\n",
        "    4: \"Coat\",\n",
        "    5: \"Sandal\",\n",
        "    6: \"Shirt\",\n",
        "    7: \"Sneaker\",\n",
        "    8: \"Bag\",\n",
        "    9: \"Ankle Boot\",\n",
        "}\n",
        "figure=plt.figure(figsize=(8,8))\n",
        "cols,rows=3,3\n",
        "for i in range(1,cols*rows+1):\n",
        "    sample_idx=torch.randint(len(training_data),size=(1,)).item()\n",
        "    print(sample_idx)\n",
        "    img,label=training_data[sample_idx]\n",
        "    figure.add_subplot(rows,cols,i)\n",
        "    #plt.title(labels_map[label])\n",
        "    plt.axis(\"off\")\n",
        "    plt.imshow(img.squeeze(),cmap=\"gray\")\n",
        "plt.show()\n",
        "\n"
      ],
      "metadata": {
        "colab": {
          "base_uri": "https://localhost:8080/",
          "height": 809
        },
        "id": "n9DiimQPgVPb",
        "outputId": "9da820c0-22c3-4292-a145-b4bf7f405126"
      },
      "execution_count": 46,
      "outputs": [
        {
          "output_type": "stream",
          "name": "stdout",
          "text": [
            "54557\n",
            "20185\n",
            "1498\n",
            "2250\n",
            "49727\n",
            "42682\n",
            "3103\n",
            "27579\n",
            "11498\n"
          ]
        },
        {
          "output_type": "display_data",
          "data": {
            "text/plain": [
              "<Figure size 800x800 with 9 Axes>"
            ],
            "image/png": "[encoded data removed]"
          },
          "metadata": {}
        }
      ]
    },
    {
      "cell_type": "code",
      "source": [
        "from torch.utils.data import DataLoader\n",
        "train_dataloader=DataLoader(training_data,batch_size=64,shuffle=True)\n",
        "test_dataloader=DataLoader(test_data,batch_size=64,shuffle=True)"
      ],
      "metadata": {
        "id": "4moxD9hGlCFG"
      },
      "execution_count": 47,
      "outputs": []
    },
    {
      "cell_type": "code",
      "source": [
        "train_features,train_labels=next(iter(train_dataloader))\n",
        "print(f\"Feature batch shape:{train_features.size()}\")\n",
        "print(f\"Label batch shape:{train_labels.size()}\")\n",
        "img = train_features[0].squeeze()\n",
        "label = train_labels[0]\n",
        "plt.imshow(img, cmap=\"gray\")\n",
        "plt.show()\n",
        "print(f\"Label: {label}\")"
      ],
      "metadata": {
        "colab": {
          "base_uri": "https://localhost:8080/",
          "height": 482
        },
        "id": "8oB7aiFLmMJg",
        "outputId": "f6aa5106-d7d4-498a-f40c-1045d7b5785d"
      },
      "execution_count": 48,
      "outputs": [
        {
          "output_type": "stream",
          "name": "stdout",
          "text": [
            "Feature batch shape:torch.Size([64, 1, 28, 28])\n",
            "Label batch shape:torch.Size([64, 10])\n"
          ]
        },
        {
          "output_type": "display_data",
          "data": {
            "text/plain": [
              "<Figure size 640x480 with 1 Axes>"
            ],
            "image/png": "[encoded data removed]"
          },
          "metadata": {}
        },
        {
          "output_type": "stream",
          "name": "stdout",
          "text": [
            "Label: tensor([0., 0., 0., 0., 1., 0., 0., 0., 0., 0.])\n"
          ]
        }
      ]
    },
    {
      "cell_type": "code",
      "source": [
        "from torch import nn\n",
        "class NeuralNetwork(nn.Module):\n",
        "  def __init__(self):\n",
        "    super().__init__()\n",
        "    self.flatten=nn.Flatten()\n",
        "    self.linear_relu_stack= nn.Sequential(\n",
        "        nn.Linear(28*28,512),\n",
        "        nn.ReLU(),\n",
        "        nn.Linear(512,512),\n",
        "        nn.ReLU(),\n",
        "        nn.Linear(512,10),\n",
        "    )\n",
        "  def forward(self, x):\n",
        "    x=self.flatten(x)\n",
        "    logits=self.linear_relu_stack(x)\n",
        "    return logits"
      ],
      "metadata": {
        "id": "FwuR7rrFzefV"
      },
      "execution_count": 49,
      "outputs": []
    },
    {
      "cell_type": "code",
      "source": [
        "model = NeuralNetwork().to(device)\n",
        "print(model)\n",
        "! pip install torchinfo\n",
        "from torchinfo import summary\n",
        "\n",
        "summary(model, input_size=(1, 28, 28), col_names=['input_size', 'output_size', 'num_params'], depth=2)"
      ],
      "metadata": {
        "colab": {
          "base_uri": "https://localhost:8080/"
        },
        "id": "z6d9aa9G8ivQ",
        "outputId": "92fd0bdf-af74-45c5-ace2-1e75091b291a"
      },
      "execution_count": 50,
      "outputs": [
        {
          "output_type": "stream",
          "name": "stdout",
          "text": [
            "NeuralNetwork(\n",
            "  (flatten): Flatten(start_dim=1, end_dim=-1)\n",
            "  (linear_relu_stack): Sequential(\n",
            "    (0): Linear(in_features=784, out_features=512, bias=True)\n",
            "    (1): ReLU()\n",
            "    (2): Linear(in_features=512, out_features=512, bias=True)\n",
            "    (3): ReLU()\n",
            "    (4): Linear(in_features=512, out_features=10, bias=True)\n",
            "  )\n",
            ")\n",
            "Requirement already satisfied: torchinfo in /usr/local/lib/python3.10/dist-packages (1.8.0)\n"
          ]
        },
        {
          "output_type": "execute_result",
          "data": {
            "text/plain": [
              "===================================================================================================================\n",
              "Layer (type:depth-idx)                   Input Shape               Output Shape              Param #\n",
              "===================================================================================================================\n",
              "NeuralNetwork                            [1, 28, 28]               [1, 10]                   --\n",
              "├─Flatten: 1-1                           [1, 28, 28]               [1, 784]                  --\n",
              "├─Sequential: 1-2                        [1, 784]                  [1, 10]                   --\n",
              "│    └─Linear: 2-1                       [1, 784]                  [1, 512]                  401,920\n",
              "│    └─ReLU: 2-2                         [1, 512]                  [1, 512]                  --\n",
              "│    └─Linear: 2-3                       [1, 512]                  [1, 512]                  262,656\n",
              "│    └─ReLU: 2-4                         [1, 512]                  [1, 512]                  --\n",
              "│    └─Linear: 2-5                       [1, 512]                  [1, 10]                   5,130\n",
              "===================================================================================================================\n",
              "Total params: 669,706\n",
              "Trainable params: 669,706\n",
              "Non-trainable params: 0\n",
              "Total mult-adds (M): 0.67\n",
              "===================================================================================================================\n",
              "Input size (MB): 0.00\n",
              "Forward/backward pass size (MB): 0.01\n",
              "Params size (MB): 2.68\n",
              "Estimated Total Size (MB): 2.69\n",
              "==================================================================================================================="
            ]
          },
          "metadata": {},
          "execution_count": 50
        }
      ]
    },
    {
      "cell_type": "code",
      "source": [
        "X=torch.rand(1,28,28,device=device)\n",
        "\n",
        "plt.imshow((X.squeeze()).detach().cpu().numpy(),cmap=\"gray\")\n",
        "plt.show()\n",
        "\n",
        "logits=model(X)\n",
        "pred_probab=nn.Softmax(dim=1)(logits)\n",
        "y_pred=pred_probab.argmax(1)\n",
        "print(f\"Predicted class: {y_pred}\")"
      ],
      "metadata": {
        "colab": {
          "base_uri": "https://localhost:8080/",
          "height": 447
        },
        "id": "fqH9QpzWY2zo",
        "outputId": "0173d618-9a8d-429a-a381-86e005531166"
      },
      "execution_count": 51,
      "outputs": [
        {
          "output_type": "display_data",
          "data": {
            "text/plain": [
              "<Figure size 640x480 with 1 Axes>"
            ],
            "image/png": "[encoded data removed]"
          },
          "metadata": {}
        },
        {
          "output_type": "stream",
          "name": "stdout",
          "text": [
            "Predicted class: tensor([6])\n"
          ]
        }
      ]
    },
    {
      "cell_type": "code",
      "source": [
        "input_image = torch.rand(3,28,28)\n",
        "print(input_image[0].size())"
      ],
      "metadata": {
        "colab": {
          "base_uri": "https://localhost:8080/"
        },
        "id": "X7r3ar3FpS2v",
        "outputId": "ffe62177-9395-430e-9b51-0961dceff41e"
      },
      "execution_count": 52,
      "outputs": [
        {
          "output_type": "stream",
          "name": "stdout",
          "text": [
            "torch.Size([28, 28])\n"
          ]
        }
      ]
    },
    {
      "cell_type": "code",
      "source": [
        "flatten = nn.Flatten()\n",
        "flat_image = flatten(input_image)\n",
        "print(flat_image.size())"
      ],
      "metadata": {
        "colab": {
          "base_uri": "https://localhost:8080/"
        },
        "id": "kk5bL4lRpTwn",
        "outputId": "0dc3e71b-8e7c-414c-91e7-cbc01be5b23c"
      },
      "execution_count": 53,
      "outputs": [
        {
          "output_type": "stream",
          "name": "stdout",
          "text": [
            "torch.Size([3, 784])\n"
          ]
        }
      ]
    },
    {
      "cell_type": "code",
      "source": [
        "layer1 = nn.Linear(in_features=28*28, out_features=20)\n",
        "hidden1 = layer1(flat_image)\n",
        "print(hidden1.flatten())"
      ],
      "metadata": {
        "colab": {
          "base_uri": "https://localhost:8080/"
        },
        "id": "v9HIzId6pvOm",
        "outputId": "a6e75c16-4a98-4349-e769-e0d01a80e07a"
      },
      "execution_count": 54,
      "outputs": [
        {
          "output_type": "stream",
          "name": "stdout",
          "text": [
            "tensor([-0.5727, -0.0566,  0.5945, -0.6089, -0.3799,  0.3645, -0.1345,  0.3640,\n",
            "        -0.7468, -0.1120,  0.0477,  0.2982,  0.3132,  0.0693,  0.1938,  0.1370,\n",
            "        -0.3669, -0.2142,  0.2348, -0.1928, -0.4254, -0.2550,  0.4772, -0.2529,\n",
            "        -0.0130, -0.0279, -0.3521,  0.5790, -0.3484, -0.0622,  0.1048,  0.1664,\n",
            "         0.5273, -0.3170,  0.2922,  0.2350, -0.2519, -0.0947,  0.0961, -0.3049,\n",
            "        -0.7758, -0.2688,  0.3899, -0.1644, -0.0235,  0.2751, -0.7370,  0.3528,\n",
            "        -0.9481, -0.3307,  0.4050,  0.4984,  0.0474, -0.2363,  0.1699,  0.2969,\n",
            "        -0.6719, -0.1611,  0.0994, -0.3230], grad_fn=<ReshapeAliasBackward0>)\n"
          ]
        }
      ]
    },
    {
      "cell_type": "code",
      "source": [
        "print(f\"Before ReLU: {hidden1}\\n\\n\")\n",
        "hidden1 = nn.ReLU()(hidden1)\n",
        "print(f\"After ReLU: {hidden1}\")"
      ],
      "metadata": {
        "colab": {
          "base_uri": "https://localhost:8080/"
        },
        "id": "oofypVVGp6lJ",
        "outputId": "adf5a59c-a194-4628-9d07-afd5639c9f8b"
      },
      "execution_count": 55,
      "outputs": [
        {
          "output_type": "stream",
          "name": "stdout",
          "text": [
            "Before ReLU: tensor([[-0.5727, -0.0566,  0.5945, -0.6089, -0.3799,  0.3645, -0.1345,  0.3640,\n",
            "         -0.7468, -0.1120,  0.0477,  0.2982,  0.3132,  0.0693,  0.1938,  0.1370,\n",
            "         -0.3669, -0.2142,  0.2348, -0.1928],\n",
            "        [-0.4254, -0.2550,  0.4772, -0.2529, -0.0130, -0.0279, -0.3521,  0.5790,\n",
            "         -0.3484, -0.0622,  0.1048,  0.1664,  0.5273, -0.3170,  0.2922,  0.2350,\n",
            "         -0.2519, -0.0947,  0.0961, -0.3049],\n",
            "        [-0.7758, -0.2688,  0.3899, -0.1644, -0.0235,  0.2751, -0.7370,  0.3528,\n",
            "         -0.9481, -0.3307,  0.4050,  0.4984,  0.0474, -0.2363,  0.1699,  0.2969,\n",
            "         -0.6719, -0.1611,  0.0994, -0.3230]], grad_fn=<AddmmBackward0>)\n",
            "\n",
            "\n",
            "After ReLU: tensor([[0.0000, 0.0000, 0.5945, 0.0000, 0.0000, 0.3645, 0.0000, 0.3640, 0.0000,\n",
            "         0.0000, 0.0477, 0.2982, 0.3132, 0.0693, 0.1938, 0.1370, 0.0000, 0.0000,\n",
            "         0.2348, 0.0000],\n",
            "        [0.0000, 0.0000, 0.4772, 0.0000, 0.0000, 0.0000, 0.0000, 0.5790, 0.0000,\n",
            "         0.0000, 0.1048, 0.1664, 0.5273, 0.0000, 0.2922, 0.2350, 0.0000, 0.0000,\n",
            "         0.0961, 0.0000],\n",
            "        [0.0000, 0.0000, 0.3899, 0.0000, 0.0000, 0.2751, 0.0000, 0.3528, 0.0000,\n",
            "         0.0000, 0.4050, 0.4984, 0.0474, 0.0000, 0.1699, 0.2969, 0.0000, 0.0000,\n",
            "         0.0994, 0.0000]], grad_fn=<ReluBackward0>)\n"
          ]
        }
      ]
    },
    {
      "cell_type": "code",
      "source": [
        "seq_modules = nn.Sequential(\n",
        "    flatten,\n",
        "    layer1,\n",
        "    nn.ReLU(),\n",
        "    nn.Linear(20, 10)\n",
        ")\n",
        "input_image = torch.rand(3,28,28)\n",
        "logits = seq_modules(input_image)\n"
      ],
      "metadata": {
        "id": "tpsRQIfTqJ1h"
      },
      "execution_count": 56,
      "outputs": []
    },
    {
      "cell_type": "code",
      "source": [
        "softmax = nn.Softmax(dim=1)\n",
        "pred_probab = softmax(logits)\n",
        "print(pred_probab)"
      ],
      "metadata": {
        "id": "BPODWMmYqNJ1",
        "colab": {
          "base_uri": "https://localhost:8080/"
        },
        "outputId": "126eecd0-370f-4e7f-c02d-cd54bc2968ff"
      },
      "execution_count": 57,
      "outputs": [
        {
          "output_type": "stream",
          "name": "stdout",
          "text": [
            "tensor([[0.0807, 0.1356, 0.0941, 0.0680, 0.0923, 0.1280, 0.0966, 0.1195, 0.0991,\n",
            "         0.0862],\n",
            "        [0.1023, 0.1360, 0.0856, 0.0829, 0.0937, 0.1218, 0.0895, 0.1110, 0.0915,\n",
            "         0.0857],\n",
            "        [0.1069, 0.1400, 0.0934, 0.0810, 0.0890, 0.1169, 0.0856, 0.1058, 0.0939,\n",
            "         0.0875]], grad_fn=<SoftmaxBackward0>)\n"
          ]
        }
      ]
    },
    {
      "cell_type": "code",
      "source": [
        "print(f\"Model structure: {model}\\n\\n\")\n",
        "\n",
        "for name, param in model.named_parameters():\n",
        "    print(f\"Layer: {name} | Size: {param.size()} | Values : {param[:2]} \\n\")"
      ],
      "metadata": {
        "colab": {
          "base_uri": "https://localhost:8080/"
        },
        "id": "Rd_VC0LUszfo",
        "outputId": "ecc070f0-9a40-4515-ce6e-8af7a63b13cb"
      },
      "execution_count": 58,
      "outputs": [
        {
          "output_type": "stream",
          "name": "stdout",
          "text": [
            "Model structure: NeuralNetwork(\n",
            "  (flatten): Flatten(start_dim=1, end_dim=-1)\n",
            "  (linear_relu_stack): Sequential(\n",
            "    (0): Linear(in_features=784, out_features=512, bias=True)\n",
            "    (1): ReLU()\n",
            "    (2): Linear(in_features=512, out_features=512, bias=True)\n",
            "    (3): ReLU()\n",
            "    (4): Linear(in_features=512, out_features=10, bias=True)\n",
            "  )\n",
            ")\n",
            "\n",
            "\n",
            "Layer: linear_relu_stack.0.weight | Size: torch.Size([512, 784]) | Values : tensor([[ 0.0324, -0.0316,  0.0293,  ..., -0.0333,  0.0230,  0.0263],\n",
            "        [-0.0004, -0.0318, -0.0260,  ..., -0.0347, -0.0252, -0.0198]],\n",
            "       grad_fn=<SliceBackward0>) \n",
            "\n",
            "Layer: linear_relu_stack.0.bias | Size: torch.Size([512]) | Values : tensor([0.0008, 0.0114], grad_fn=<SliceBackward0>) \n",
            "\n",
            "Layer: linear_relu_stack.2.weight | Size: torch.Size([512, 512]) | Values : tensor([[ 0.0297, -0.0352, -0.0200,  ..., -0.0272, -0.0111, -0.0272],\n",
            "        [-0.0415,  0.0284,  0.0205,  ...,  0.0187, -0.0347,  0.0248]],\n",
            "       grad_fn=<SliceBackward0>) \n",
            "\n",
            "Layer: linear_relu_stack.2.bias | Size: torch.Size([512]) | Values : tensor([ 0.0400, -0.0117], grad_fn=<SliceBackward0>) \n",
            "\n",
            "Layer: linear_relu_stack.4.weight | Size: torch.Size([10, 512]) | Values : tensor([[-0.0241, -0.0172,  0.0207,  ..., -0.0178, -0.0208, -0.0134],\n",
            "        [ 0.0163,  0.0298, -0.0258,  ...,  0.0152, -0.0129,  0.0379]],\n",
            "       grad_fn=<SliceBackward0>) \n",
            "\n",
            "Layer: linear_relu_stack.4.bias | Size: torch.Size([10]) | Values : tensor([-0.0225, -0.0146], grad_fn=<SliceBackward0>) \n",
            "\n"
          ]
        }
      ]
    },
    {
      "cell_type": "code",
      "source": [
        "learning_rate = 1e-3\n",
        "batch_size = 64\n",
        "epochs = 5\n"
      ],
      "metadata": {
        "id": "KDDHHLfvcueK"
      },
      "execution_count": 59,
      "outputs": []
    },
    {
      "cell_type": "code",
      "source": [
        "def train_loop(dataloader,model,loss_fn,optimizer):\n",
        "  size=len(dataloader.dataset)\n",
        "  model.train()\n",
        "  for batch,(X,y) in enumerate(dataloader):\n",
        "\n",
        "       pred=model(X)\n",
        "       loss=loss_fn(pred,y)\n",
        "       loss.backward()\n",
        "       optimizer.step()\n",
        "       optimizer.zero_grad()\n",
        "       if(batch%100==0):\n",
        "          loss,current=loss.item(),(batch+1)*len(X)\n",
        "          print(f\"batch:{batch:>3d},loss:{loss:>7f}[{current:>5d}/{size:5d}]\")\n"
      ],
      "metadata": {
        "id": "tHs0QpSBtEZQ"
      },
      "execution_count": 60,
      "outputs": []
    },
    {
      "cell_type": "code",
      "source": [
        "def test_loop(dataloader,model,loss_fn):\n",
        "  model.eval()\n",
        "  size=len(dataloader.dataset)\n",
        "  num_batches=len(dataloader)\n",
        "  test_loss,correct=0,0\n",
        "  with torch.no_grad():\n",
        "    for X,y in dataloader:\n",
        "      pred=model(X)\n",
        "      #print(pred)\n",
        "      #print(y.shape)\n",
        "      test_loss+=loss_fn(pred,y).item()\n",
        "      #print(test_loss)\n",
        "      #estimate_label=pred.argmax(1)\n",
        "      #estimate_label.reshape(-1,1)\n",
        "      #print(estimate_label.shape)\n",
        "      #y_est=torch.ones(64,10,dtype=torch.float)\n",
        "      #y_out=torch.zeros(64,10,dtype=torch.float)\n",
        "      #pred_est=y_out.scatter_(0,estimate_label,y_est)\n",
        "      #for i in range(64):\n",
        "      #  y_out[i][estimate_label[i][0]]=1.0\n",
        "      correct+=(pred.argmax(1)==y.argmax(1)).type(torch.float).sum().item()\n",
        "  test_loss/=num_batches\n",
        "  correct/=size\n",
        "  print(f\"Test Error: \\n Accuracy: {(100*correct):>0.1f}%, Avg loss: {test_loss:>8f} \\n\")"
      ],
      "metadata": {
        "id": "j_H86_6IauYP"
      },
      "execution_count": 61,
      "outputs": []
    },
    {
      "cell_type": "code",
      "source": [
        "loss_fn=nn.CrossEntropyLoss()\n",
        "optimizer=torch.optim.Adam(model.parameters(),lr=learning_rate)\n",
        "epochs=10\n",
        "for t in range(epochs):\n",
        "  print(f\"Epoch {t+1}\\n-------------------------------\")\n",
        "    #model.to('cuda')\n",
        "  train_loop(train_dataloader, model, loss_fn, optimizer)\n",
        "  test_loop(test_dataloader, model, loss_fn)\n",
        "print(\"Done!\")"
      ],
      "metadata": {
        "colab": {
          "base_uri": "https://localhost:8080/"
        },
        "id": "JjH4gHY9cNbh",
        "outputId": "41dced73-657f-42a8-c154-2f93e9224e67"
      },
      "execution_count": 31,
      "outputs": [
        {
          "output_type": "stream",
          "name": "stdout",
          "text": [
            "Epoch 1\n",
            "-------------------------------\n",
            "batch:  0,loss:2.310195[   64/60000]\n",
            "batch:100,loss:0.668912[ 6464/60000]\n",
            "batch:200,loss:0.382464[12864/60000]\n",
            "batch:300,loss:0.338507[19264/60000]\n",
            "batch:400,loss:0.381913[25664/60000]\n",
            "batch:500,loss:0.360867[32064/60000]\n",
            "batch:600,loss:0.564956[38464/60000]\n",
            "batch:700,loss:0.491099[44864/60000]\n",
            "batch:800,loss:0.533502[51264/60000]\n",
            "batch:900,loss:0.272448[57664/60000]\n",
            "Test Error: \n",
            " Accuracy: 84.0%, Avg loss: 0.435437 \n",
            "\n",
            "Epoch 2\n",
            "-------------------------------\n",
            "batch:  0,loss:0.390322[   64/60000]\n",
            "batch:100,loss:0.329967[ 6464/60000]\n",
            "batch:200,loss:0.401259[12864/60000]\n",
            "batch:300,loss:0.265678[19264/60000]\n",
            "batch:400,loss:0.407627[25664/60000]\n",
            "batch:500,loss:0.324252[32064/60000]\n",
            "batch:600,loss:0.292794[38464/60000]\n",
            "batch:700,loss:0.422442[44864/60000]\n",
            "batch:800,loss:0.401826[51264/60000]\n",
            "batch:900,loss:0.326676[57664/60000]\n",
            "Test Error: \n",
            " Accuracy: 86.8%, Avg loss: 0.353382 \n",
            "\n",
            "Epoch 3\n",
            "-------------------------------\n",
            "batch:  0,loss:0.391778[   64/60000]\n",
            "batch:100,loss:0.137041[ 6464/60000]\n",
            "batch:200,loss:0.255956[12864/60000]\n",
            "batch:300,loss:0.585995[19264/60000]\n",
            "batch:400,loss:0.220942[25664/60000]\n",
            "batch:500,loss:0.252938[32064/60000]\n",
            "batch:600,loss:0.248238[38464/60000]\n",
            "batch:700,loss:0.337627[44864/60000]\n",
            "batch:800,loss:0.427353[51264/60000]\n",
            "batch:900,loss:0.293378[57664/60000]\n",
            "Test Error: \n",
            " Accuracy: 85.6%, Avg loss: 0.387925 \n",
            "\n",
            "Epoch 4\n",
            "-------------------------------\n",
            "batch:  0,loss:0.251711[   64/60000]\n",
            "batch:100,loss:0.285517[ 6464/60000]\n",
            "batch:200,loss:0.266080[12864/60000]\n",
            "batch:300,loss:0.313539[19264/60000]\n",
            "batch:400,loss:0.223781[25664/60000]\n",
            "batch:500,loss:0.231162[32064/60000]\n",
            "batch:600,loss:0.181310[38464/60000]\n",
            "batch:700,loss:0.300677[44864/60000]\n",
            "batch:800,loss:0.261748[51264/60000]\n",
            "batch:900,loss:0.206653[57664/60000]\n",
            "Test Error: \n",
            " Accuracy: 87.1%, Avg loss: 0.354501 \n",
            "\n",
            "Epoch 5\n",
            "-------------------------------\n",
            "batch:  0,loss:0.274315[   64/60000]\n",
            "batch:100,loss:0.310653[ 6464/60000]\n",
            "batch:200,loss:0.269758[12864/60000]\n",
            "batch:300,loss:0.244170[19264/60000]\n",
            "batch:400,loss:0.282035[25664/60000]\n",
            "batch:500,loss:0.330023[32064/60000]\n",
            "batch:600,loss:0.235676[38464/60000]\n",
            "batch:700,loss:0.349253[44864/60000]\n",
            "batch:800,loss:0.304364[51264/60000]\n",
            "batch:900,loss:0.297938[57664/60000]\n",
            "Test Error: \n",
            " Accuracy: 87.6%, Avg loss: 0.350267 \n",
            "\n",
            "Epoch 6\n",
            "-------------------------------\n",
            "batch:  0,loss:0.361437[   64/60000]\n",
            "batch:100,loss:0.152350[ 6464/60000]\n",
            "batch:200,loss:0.282192[12864/60000]\n",
            "batch:300,loss:0.271930[19264/60000]\n",
            "batch:400,loss:0.243689[25664/60000]\n",
            "batch:500,loss:0.107008[32064/60000]\n",
            "batch:600,loss:0.261969[38464/60000]\n",
            "batch:700,loss:0.240073[44864/60000]\n",
            "batch:800,loss:0.296964[51264/60000]\n",
            "batch:900,loss:0.318998[57664/60000]\n",
            "Test Error: \n",
            " Accuracy: 88.1%, Avg loss: 0.326341 \n",
            "\n",
            "Epoch 7\n",
            "-------------------------------\n",
            "batch:  0,loss:0.155466[   64/60000]\n",
            "batch:100,loss:0.270583[ 6464/60000]\n",
            "batch:200,loss:0.240103[12864/60000]\n",
            "batch:300,loss:0.244541[19264/60000]\n",
            "batch:400,loss:0.110175[25664/60000]\n",
            "batch:500,loss:0.126701[32064/60000]\n",
            "batch:600,loss:0.210297[38464/60000]\n",
            "batch:700,loss:0.202865[44864/60000]\n",
            "batch:800,loss:0.224915[51264/60000]\n",
            "batch:900,loss:0.110901[57664/60000]\n",
            "Test Error: \n",
            " Accuracy: 88.2%, Avg loss: 0.333050 \n",
            "\n",
            "Epoch 8\n",
            "-------------------------------\n",
            "batch:  0,loss:0.290492[   64/60000]\n",
            "batch:100,loss:0.340980[ 6464/60000]\n",
            "batch:200,loss:0.231832[12864/60000]\n",
            "batch:300,loss:0.239781[19264/60000]\n",
            "batch:400,loss:0.260505[25664/60000]\n",
            "batch:500,loss:0.225639[32064/60000]\n",
            "batch:600,loss:0.245241[38464/60000]\n",
            "batch:700,loss:0.210533[44864/60000]\n",
            "batch:800,loss:0.139113[51264/60000]\n",
            "batch:900,loss:0.233269[57664/60000]\n",
            "Test Error: \n",
            " Accuracy: 88.5%, Avg loss: 0.330977 \n",
            "\n",
            "Epoch 9\n",
            "-------------------------------\n",
            "batch:  0,loss:0.222510[   64/60000]\n",
            "batch:100,loss:0.314459[ 6464/60000]\n",
            "batch:200,loss:0.337494[12864/60000]\n",
            "batch:300,loss:0.237663[19264/60000]\n",
            "batch:400,loss:0.302469[25664/60000]\n",
            "batch:500,loss:0.394940[32064/60000]\n",
            "batch:600,loss:0.227403[38464/60000]\n",
            "batch:700,loss:0.275982[44864/60000]\n",
            "batch:800,loss:0.172815[51264/60000]\n",
            "batch:900,loss:0.138676[57664/60000]\n",
            "Test Error: \n",
            " Accuracy: 88.3%, Avg loss: 0.331854 \n",
            "\n",
            "Epoch 10\n",
            "-------------------------------\n",
            "batch:  0,loss:0.270698[   64/60000]\n",
            "batch:100,loss:0.179261[ 6464/60000]\n",
            "batch:200,loss:0.162511[12864/60000]\n",
            "batch:300,loss:0.240235[19264/60000]\n",
            "batch:400,loss:0.352267[25664/60000]\n",
            "batch:500,loss:0.180750[32064/60000]\n",
            "batch:600,loss:0.240445[38464/60000]\n",
            "batch:700,loss:0.131537[44864/60000]\n",
            "batch:800,loss:0.182015[51264/60000]\n",
            "batch:900,loss:0.260100[57664/60000]\n",
            "Test Error: \n",
            " Accuracy: 88.4%, Avg loss: 0.335084 \n",
            "\n",
            "Done!\n"
          ]
        }
      ]
    }
  ]
}